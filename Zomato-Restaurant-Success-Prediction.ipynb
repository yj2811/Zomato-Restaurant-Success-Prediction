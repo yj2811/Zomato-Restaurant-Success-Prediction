{
 "cells": [
  {
   "cell_type": "markdown",
   "id": "95630b22",
   "metadata": {},
   "source": [
    "# Predicting the success of a Zomato Restaurant"
   ]
  },
  {
   "cell_type": "code",
   "execution_count": null,
   "id": "66879d19",
   "metadata": {},
   "outputs": [],
   "source": [
    "!pip install wordcloud"
   ]
  },
  {
   "cell_type": "code",
   "execution_count": null,
   "id": "735cb7a8",
   "metadata": {},
   "outputs": [],
   "source": [
    "import pandas as pd\n",
    "import numpy as np\n",
    "import matplotlib.pyplot as plt\n",
    "import seaborn as sns\n",
    "\n",
    "import plotly.express as px\n",
    "import plotly.offline as pyo\n",
    "import plotly.graph_objs as go\n",
    "\n",
    "from plotly.offline import iplot\n",
    "pyo.init_notebook_mode()\n",
    "\n",
    "from geopy.geocoders import Nominatim\n",
    "\n",
    "import folium\n",
    "from folium.plugins import HeatMap\n",
    "\n",
    "from wordcloud import WordCloud, STOPWORDS\n",
    "\n",
    "import re\n",
    "\n",
    "import warnings\n",
    "from warnings import filterwarnings\n",
    "filterwarnings('ignore')"
   ]
  },
  {
   "cell_type": "code",
   "execution_count": null,
   "id": "99f8c12b",
   "metadata": {},
   "outputs": [],
   "source": [
    "df=pd.read_csv('/Users/yogakshijaiman/Desktop/Projects/Zomato-Restaurant-Success-Prediction/zomato.csv')"
   ]
  },
  {
   "cell_type": "code",
   "execution_count": null,
   "id": "4dbad379",
   "metadata": {},
   "outputs": [],
   "source": [
    "df.head()"
   ]
  },
  {
   "cell_type": "code",
   "execution_count": null,
   "id": "154b894e",
   "metadata": {},
   "outputs": [],
   "source": [
    "df.shape"
   ]
  },
  {
   "cell_type": "code",
   "execution_count": null,
   "id": "2f589e30",
   "metadata": {},
   "outputs": [],
   "source": [
    "df.columns"
   ]
  },
  {
   "cell_type": "markdown",
   "id": "4e3c58b2",
   "metadata": {},
   "source": [
    "# Step 1:\n",
    "Obtaining NaN values, data types of features and its overview."
   ]
  },
  {
   "cell_type": "code",
   "execution_count": null,
   "id": "748774d6",
   "metadata": {},
   "outputs": [],
   "source": [
    "df.isnull().sum()"
   ]
  },
  {
   "cell_type": "code",
   "execution_count": null,
   "id": "40240028",
   "metadata": {},
   "outputs": [],
   "source": [
    "# Using list comprehension for finding features with NaN values\n",
    "[feature for feature in df.columns if df[feature].isnull().sum()>1]"
   ]
  },
  {
   "cell_type": "code",
   "execution_count": null,
   "id": "10ede447",
   "metadata": {},
   "outputs": [],
   "source": [
    "# Finding the percentage of missing values\n",
    "feature_na=[]\n",
    "for feature in df.columns:\n",
    "    if(df[feature].isnull().sum()>1):\n",
    "        feature_na.append(feature)\n",
    "\n",
    "for feature in feature_na:\n",
    "    print('{} has {} % missing values.'.format(feature, np.round(df[feature].isnull().sum()/len(df)*100, 3)))"
   ]
  },
  {
   "cell_type": "code",
   "execution_count": null,
   "id": "c3ca7558",
   "metadata": {},
   "outputs": [],
   "source": [
    "df.info()"
   ]
  },
  {
   "cell_type": "markdown",
   "id": "4d1c8337",
   "metadata": {},
   "source": [
    "# Step 2:\n",
    "Perform data cleaning on approx_cost feature."
   ]
  },
  {
   "cell_type": "code",
   "execution_count": null,
   "id": "a9bd67d7",
   "metadata": {},
   "outputs": [],
   "source": [
    "df['approx_cost(for two people)'].dtype"
   ]
  },
  {
   "cell_type": "code",
   "execution_count": null,
   "id": "c6be1671",
   "metadata": {},
   "outputs": [],
   "source": [
    "# Passing a filter in the data frame to display all NaN values in approx_cost features\n",
    "df[df['approx_cost(for two people)'].isnull()]"
   ]
  },
  {
   "cell_type": "code",
   "execution_count": null,
   "id": "1558eb1b",
   "metadata": {},
   "outputs": [],
   "source": [
    "# Check if there is any special character that is causing the data type to become an object\n",
    "df['approx_cost(for two people)'].unique()\n",
    "# We can observe that the ',' is causing the data type to be an object"
   ]
  },
  {
   "cell_type": "code",
   "execution_count": null,
   "id": "e7a9c35b",
   "metadata": {},
   "outputs": [],
   "source": [
    "# Replacing the ',' using lambda\n",
    "df['approx_cost(for two people)'] = df['approx_cost(for two people)'].astype(str).apply(lambda x:x.replace(',', ''))\n",
    "\n",
    "# Aliter\n",
    "# def remove_comma(x):\n",
    "#     return x.replace(',', '')\n",
    "# df['approx_cost(for two people)'].astype(str).apply(remove_comma)"
   ]
  },
  {
   "cell_type": "code",
   "execution_count": null,
   "id": "41cbd9df",
   "metadata": {},
   "outputs": [],
   "source": [
    "df['approx_cost(for two people)'].unique()\n",
    "# We can now easily convert the feature into float"
   ]
  },
  {
   "cell_type": "code",
   "execution_count": null,
   "id": "ef63508f",
   "metadata": {},
   "outputs": [],
   "source": [
    "df['approx_cost(for two people)'] = df['approx_cost(for two people)'].astype(float)"
   ]
  },
  {
   "cell_type": "code",
   "execution_count": null,
   "id": "2b447237",
   "metadata": {},
   "outputs": [],
   "source": [
    "df['approx_cost(for two people)'].dtype"
   ]
  },
  {
   "cell_type": "markdown",
   "id": "cf2f468c",
   "metadata": {},
   "source": [
    "# Step 3:\n",
    "Perform data cleaning on rate feature."
   ]
  },
  {
   "cell_type": "code",
   "execution_count": null,
   "id": "0bb671d1",
   "metadata": {},
   "outputs": [],
   "source": [
    "df['rate'].dtype"
   ]
  },
  {
   "cell_type": "code",
   "execution_count": null,
   "id": "0ef1dbc0",
   "metadata": {},
   "outputs": [],
   "source": [
    "df['rate'].unique()\n",
    "# We can observe that the '/', 'NEW' is causing the data type to be an object"
   ]
  },
  {
   "cell_type": "code",
   "execution_count": null,
   "id": "03551593",
   "metadata": {},
   "outputs": [],
   "source": [
    "df['rate'].isnull().sum()"
   ]
  },
  {
   "cell_type": "code",
   "execution_count": null,
   "id": "bf3614eb",
   "metadata": {},
   "outputs": [],
   "source": [
    "def split(x):\n",
    "    return x.split('/')[0]"
   ]
  },
  {
   "cell_type": "code",
   "execution_count": null,
   "id": "4d793e4b",
   "metadata": {},
   "outputs": [],
   "source": [
    "df['rate'] = df['rate'].astype(str).apply(split)"
   ]
  },
  {
   "cell_type": "code",
   "execution_count": null,
   "id": "d86889e8",
   "metadata": {},
   "outputs": [],
   "source": [
    "df['rate'].replace('-', 0, inplace=True)\n",
    "df['rate'].replace('NEW', 0, inplace=True)"
   ]
  },
  {
   "cell_type": "code",
   "execution_count": null,
   "id": "6dd6ac63",
   "metadata": {},
   "outputs": [],
   "source": [
    "df['rate'].unique()\n",
    "# We can now easily convert the feature into float"
   ]
  },
  {
   "cell_type": "code",
   "execution_count": null,
   "id": "b555352f",
   "metadata": {},
   "outputs": [],
   "source": [
    "df['rate'] = df['rate'].astype(float)"
   ]
  },
  {
   "cell_type": "code",
   "execution_count": null,
   "id": "53771cc8",
   "metadata": {},
   "outputs": [],
   "source": [
    "df['rate'].unique()"
   ]
  },
  {
   "cell_type": "markdown",
   "id": "e4bf5b3e",
   "metadata": {},
   "source": [
    "# Step 4:\n",
    "Types of restaurants."
   ]
  },
  {
   "cell_type": "code",
   "execution_count": null,
   "id": "1fd18385",
   "metadata": {},
   "outputs": [],
   "source": [
    "plt.figure(figsize=(20,12))\n",
    "df['rest_type'].value_counts().nlargest(20).plot.bar(color='purple')"
   ]
  },
  {
   "cell_type": "code",
   "execution_count": null,
   "id": "0e202ff6",
   "metadata": {},
   "outputs": [],
   "source": [
    "def mark(x):\n",
    "    if x in ('Quick Bites', 'Casual Dining'):\n",
    "        return 'Quick Bites + Casual Dining'\n",
    "    else:\n",
    "        return 'others'"
   ]
  },
  {
   "cell_type": "code",
   "execution_count": null,
   "id": "d3989dbf",
   "metadata": {},
   "outputs": [],
   "source": [
    "df['Top_types']= df['rest_type'].apply(mark)"
   ]
  },
  {
   "cell_type": "code",
   "execution_count": null,
   "id": "9d0286a1",
   "metadata": {},
   "outputs": [],
   "source": [
    "df.head() "
   ]
  },
  {
   "cell_type": "code",
   "execution_count": null,
   "id": "2085887f",
   "metadata": {},
   "outputs": [],
   "source": [
    "values = df['Top_types'].value_counts().values\n",
    "labels = df['Top_types'].value_counts().index"
   ]
  },
  {
   "cell_type": "code",
   "execution_count": null,
   "id": "0c01e20e",
   "metadata": {},
   "outputs": [],
   "source": [
    "fig=px.pie(data_frame=df, names=labels, values=values)\n",
    "fig.show()"
   ]
  },
  {
   "cell_type": "markdown",
   "id": "f5a044cb",
   "metadata": {},
   "source": [
    "# Step 5:\n",
    "Create a new dataframe with votes, cost and rating of each restaurant."
   ]
  },
  {
   "cell_type": "code",
   "execution_count": null,
   "id": "d43e9e33",
   "metadata": {},
   "outputs": [],
   "source": [
    "df.columns"
   ]
  },
  {
   "cell_type": "code",
   "execution_count": null,
   "id": "64f8b63a",
   "metadata": {},
   "outputs": [],
   "source": [
    "df.dtypes"
   ]
  },
  {
   "cell_type": "code",
   "execution_count": null,
   "id": "4dc899fa",
   "metadata": {},
   "outputs": [],
   "source": [
    "rest=df.groupby('name').agg({'votes': 'sum', 'url': 'count', 'approx_cost(for two people)': 'mean', 'rate': 'mean'}).reset_index()\n",
    "rest"
   ]
  },
  {
   "cell_type": "code",
   "execution_count": null,
   "id": "9094666a",
   "metadata": {},
   "outputs": [],
   "source": [
    "rest.columns=['name', 'total_votes', 'total_unities', 'avg_approx_cost', 'mean_rating']\n",
    "rest.head()"
   ]
  },
  {
   "cell_type": "code",
   "execution_count": null,
   "id": "0d99346b",
   "metadata": {},
   "outputs": [],
   "source": [
    "rest['votes_per_unity'] = rest['total_votes']/rest['total_unities']\n",
    "rest.head()"
   ]
  },
  {
   "cell_type": "code",
   "execution_count": null,
   "id": "381534e6",
   "metadata": {},
   "outputs": [],
   "source": [
    "popular = rest.sort_values(by='total_unities', ascending=False)\n",
    "popular"
   ]
  },
  {
   "cell_type": "code",
   "execution_count": null,
   "id": "922015eb",
   "metadata": {},
   "outputs": [],
   "source": [
    "popular.shape"
   ]
  },
  {
   "cell_type": "code",
   "execution_count": null,
   "id": "8fff7c86",
   "metadata": {},
   "outputs": [],
   "source": [
    "popular['name'].nunique()"
   ]
  },
  {
   "cell_type": "markdown",
   "id": "71f06974",
   "metadata": {},
   "source": [
    "# Step 6:\n",
    "Restaurant overview analysis."
   ]
  },
  {
   "cell_type": "code",
   "execution_count": null,
   "id": "2982b2cc",
   "metadata": {},
   "outputs": [],
   "source": [
    "fig, (ax1, ax2, ax3) = plt.subplots(3,1, figsize=(20,30))\n",
    "ax1.text(0.50, 0.35, int(popular['total_votes'].mean()), fontsize = 40, ha='center')\n",
    "ax1.text(0.50, 0.25, 'is the average of votes received by the restaurants', fontsize=25,ha='center')\n",
    "ax1.axis('off')\n",
    "\n",
    "sns.barplot(x='total_votes', y='name', data=popular.sort_values(by='total_votes', ascending=False).query('total_votes>0').head(5), ax=ax2, palette='plasma')\n",
    "ax2.set_title('Top 5 most voted restaurants:')\n",
    "\n",
    "sns.barplot(x='total_votes', y='name', data=popular.sort_values(by='total_votes', ascending=False).query('total_votes>0').tail(5), ax=ax3, palette='plasma')\n",
    "ax3.set_title('Top 5 least voted restaurants:')"
   ]
  },
  {
   "cell_type": "markdown",
   "id": "02558cee",
   "metadata": {},
   "source": [
    "# Step 7\n",
    "Analyse the most exprensive and cheapest restaurants."
   ]
  },
  {
   "cell_type": "code",
   "execution_count": null,
   "id": "2a7f8435",
   "metadata": {},
   "outputs": [],
   "source": [
    "fig, (ax1, ax2, ax3) = plt.subplots(3,1, figsize=(20,30))\n",
    "ax1.text(0.50, 0.35, int(popular['avg_approx_cost'].mean()), fontsize = 40, ha='center')\n",
    "ax1.text(0.50, 0.25, 'is the mean approx cost for Bengaluru Restaurants', fontsize=25,ha='center')\n",
    "ax1.axis('off')\n",
    "\n",
    "sns.barplot(x='avg_approx_cost', y='name', data=popular.sort_values(by='avg_approx_cost', ascending=False).query('avg_approx_cost>0').head(5), ax=ax2, palette='plasma')\n",
    "ax2.set_title('Top 5 most expensive restaurants:')\n",
    "\n",
    "sns.barplot(x='avg_approx_cost', y='name', data=popular.sort_values(by='avg_approx_cost', ascending=False).query('avg_approx_cost>0').tail(5), ax=ax3, palette='plasma')\n",
    "ax3.set_title('Top 5 cheapest restaurants:')"
   ]
  },
  {
   "cell_type": "markdown",
   "id": "bba20b2d",
   "metadata": {},
   "source": [
    "# Step 8\n",
    "Analyse restaurants that offer Table Booking and Online Order services."
   ]
  },
  {
   "cell_type": "code",
   "execution_count": null,
   "id": "44f70bbd",
   "metadata": {},
   "outputs": [],
   "source": [
    "x=df['book_table'].value_counts()\n",
    "labels = ['No booking available', 'Booking available']"
   ]
  },
  {
   "cell_type": "code",
   "execution_count": null,
   "id": "c74066c2",
   "metadata": {},
   "outputs": [],
   "source": [
    "trace = go.Pie(labels=labels, values=x, hoverinfo='label+percent', textinfo='percent')\n",
    "iplot([trace])"
   ]
  },
  {
   "cell_type": "code",
   "execution_count": null,
   "id": "c84fa7e1",
   "metadata": {},
   "outputs": [],
   "source": [
    "x=df['online_order'].value_counts()\n",
    "labels = ['No online order available', 'Online order available']"
   ]
  },
  {
   "cell_type": "code",
   "execution_count": null,
   "id": "077a5ae4",
   "metadata": {},
   "outputs": [],
   "source": [
    "fig=px.pie(df, values=x, names=labels, title='Pie Chart')\n",
    "fig.show()"
   ]
  },
  {
   "cell_type": "markdown",
   "id": "a6552e87",
   "metadata": {},
   "source": [
    "# Step 9\n",
    "Find best budget restaurants in any location."
   ]
  },
  {
   "cell_type": "code",
   "execution_count": null,
   "id": "730df0e8",
   "metadata": {},
   "outputs": [],
   "source": [
    "filter = (df['approx_cost(for two people)']<=400) & (df['location']=='BTM') & (df['rate']>4) & (df['rest_type']=='Quick Bites')\n",
    "budget = df[filter]\n",
    "budget.head()"
   ]
  },
  {
   "cell_type": "code",
   "execution_count": null,
   "id": "1c901519",
   "metadata": {},
   "outputs": [],
   "source": [
    "budget['name'].unique()"
   ]
  },
  {
   "cell_type": "code",
   "execution_count": null,
   "id": "82e76241",
   "metadata": {},
   "outputs": [],
   "source": [
    "def return_budget(location,restaurant_type):\n",
    "    budget=df[(df['approx_cost(for two people)']<=400) & (df['location']==location) & \n",
    "                     (df['rate']>4) & (df['rest_type']==restaurant_type)]\n",
    "    return(budget['name'].unique())"
   ]
  },
  {
   "cell_type": "code",
   "execution_count": null,
   "id": "5e89e4c2",
   "metadata": {},
   "outputs": [],
   "source": [
    "return_budget('BTM',\"Quick Bites\")"
   ]
  },
  {
   "cell_type": "markdown",
   "id": "c0d5d4b8",
   "metadata": {},
   "source": [
    "# Step 10\n",
    "Extract latitudes and longitudes for geographical data analysis."
   ]
  },
  {
   "cell_type": "code",
   "execution_count": null,
   "id": "165fa765",
   "metadata": {},
   "outputs": [],
   "source": [
    "geolocator=Nominatim(user_agent='app')"
   ]
  },
  {
   "cell_type": "code",
   "execution_count": null,
   "id": "d9eef452",
   "metadata": {},
   "outputs": [],
   "source": [
    "data=df['name'][0]\n",
    "data"
   ]
  },
  {
   "cell_type": "code",
   "execution_count": null,
   "id": "69463967",
   "metadata": {},
   "outputs": [],
   "source": [
    "data=geolocator.geocode(data)"
   ]
  },
  {
   "cell_type": "code",
   "execution_count": null,
   "id": "90f677c4",
   "metadata": {},
   "outputs": [],
   "source": [
    "data.latitude"
   ]
  },
  {
   "cell_type": "code",
   "execution_count": null,
   "id": "2d6f6cc3",
   "metadata": {},
   "outputs": [],
   "source": [
    "data.longitude"
   ]
  },
  {
   "cell_type": "code",
   "execution_count": null,
   "id": "48e8afd8",
   "metadata": {},
   "outputs": [],
   "source": [
    "# Should fine locations for only unique places and not for all entries in the data frame\n",
    "locations=pd.DataFrame({'Name':df['location'].unique()})\n",
    "locations"
   ]
  },
  {
   "cell_type": "code",
   "execution_count": null,
   "id": "1118083c",
   "metadata": {},
   "outputs": [],
   "source": [
    "lat=[]\n",
    "long=[]\n",
    "\n",
    "for location in locations['Name']:\n",
    "    location = geolocator.geocode(location)\n",
    "    if location is None:\n",
    "        lat.append(np.nan)\n",
    "        long.append(np.nan)\n",
    "    else:\n",
    "        lat.append(location.latitude)\n",
    "        long.append(location.longitude)"
   ]
  },
  {
   "cell_type": "code",
   "execution_count": null,
   "id": "2d345a10",
   "metadata": {},
   "outputs": [],
   "source": [
    "locations['latitude']=lat\n",
    "locations['longitude']=long"
   ]
  },
  {
   "cell_type": "code",
   "execution_count": null,
   "id": "876c072b",
   "metadata": {},
   "outputs": [],
   "source": [
    "locations.head()"
   ]
  },
  {
   "cell_type": "markdown",
   "id": "6416dd71",
   "metadata": {},
   "source": [
    "# Step 11:\n",
    "Perform spatial analysis to find where most of the restaurants are situated."
   ]
  },
  {
   "cell_type": "code",
   "execution_count": null,
   "id": "2389b2cd",
   "metadata": {},
   "outputs": [],
   "source": [
    "Rest_locations = df['location'].value_counts().reset_index()\n",
    "Rest_locations.columns=['Name', 'count']\n",
    "Rest_locations"
   ]
  },
  {
   "cell_type": "code",
   "execution_count": null,
   "id": "cdafdef9",
   "metadata": {},
   "outputs": [],
   "source": [
    "# Merge locations and Rest_locations on the basis of common column name\n",
    "Restaurant_locations = Rest_locations.merge(locations, on='Name').dropna()\n",
    "Restaurant_locations"
   ]
  },
  {
   "cell_type": "code",
   "execution_count": null,
   "id": "eab0b93b",
   "metadata": {},
   "outputs": [],
   "source": [
    "basemap = folium.Map(location=[12.97, 77.59])\n",
    "basemap"
   ]
  },
  {
   "cell_type": "code",
   "execution_count": null,
   "id": "811c87be",
   "metadata": {},
   "outputs": [],
   "source": [
    "HeatMap(data=Restaurant_locations[['latitude', 'longitude', 'count']]).add_to(basemap)"
   ]
  },
  {
   "cell_type": "code",
   "execution_count": null,
   "id": "9c60447f",
   "metadata": {},
   "outputs": [],
   "source": [
    "basemap"
   ]
  },
  {
   "cell_type": "markdown",
   "id": "eb739fc1",
   "metadata": {},
   "source": [
    "# Step 12:\n",
    "Analysing customer preferences."
   ]
  },
  {
   "cell_type": "code",
   "execution_count": null,
   "id": "af1cc6e9",
   "metadata": {},
   "outputs": [],
   "source": [
    "data = df[df['rest_type']=='Quick Bites']\n",
    "data.head()"
   ]
  },
  {
   "cell_type": "code",
   "execution_count": null,
   "id": "dc4940e9",
   "metadata": {},
   "outputs": [],
   "source": [
    "data=df[df['rest_type']=='Quick Bites']\n",
    "data.head()"
   ]
  },
  {
   "cell_type": "code",
   "execution_count": null,
   "id": "4535c34d",
   "metadata": {},
   "outputs": [],
   "source": [
    "dishes=''\n",
    "\n",
    "for word in data['dish_liked'].dropna():\n",
    "    words=word.split()\n",
    "    for i in range(len(words)):\n",
    "        words[i] = words[i].lower()\n",
    "        \n",
    "    dishes = dishes + ' '.join(words) + ' '"
   ]
  },
  {
   "cell_type": "code",
   "execution_count": null,
   "id": "abb982cf",
   "metadata": {},
   "outputs": [],
   "source": [
    "data['dish_liked'].isnull().sum()"
   ]
  },
  {
   "cell_type": "code",
   "execution_count": null,
   "id": "e5395934",
   "metadata": {},
   "outputs": [],
   "source": [
    "dishes"
   ]
  },
  {
   "cell_type": "code",
   "execution_count": null,
   "id": "bf415f12",
   "metadata": {},
   "outputs": [],
   "source": [
    "stopwords = set(STOPWORDS)\n",
    "wordcloud = WordCloud(stopwords=stopwords, width=1500, height=1500).generate(dishes)"
   ]
  },
  {
   "cell_type": "code",
   "execution_count": null,
   "id": "d2b8f72f",
   "metadata": {},
   "outputs": [],
   "source": [
    "plt.imshow(wordcloud)\n",
    "plt.axis('off')"
   ]
  },
  {
   "cell_type": "markdown",
   "id": "2ff92246",
   "metadata": {},
   "source": [
    "# Step 13\n",
    "Analyse customer reviews."
   ]
  },
  {
   "cell_type": "code",
   "execution_count": null,
   "id": "fedf7f46",
   "metadata": {},
   "outputs": [],
   "source": [
    "data1 = df['reviews_list'][0]\n",
    "data1=data1.lower()\n",
    "data1"
   ]
  },
  {
   "cell_type": "code",
   "execution_count": null,
   "id": "d744c22b",
   "metadata": {},
   "outputs": [],
   "source": [
    "data2 = re.sub('[^a-zA-Z]', ' ', data1)\n",
    "data2"
   ]
  },
  {
   "cell_type": "code",
   "execution_count": null,
   "id": "44feedb0",
   "metadata": {},
   "outputs": [],
   "source": [
    "data3 = re.sub('rated', ' ', data2)\n",
    "data3"
   ]
  },
  {
   "cell_type": "code",
   "execution_count": null,
   "id": "ee083111",
   "metadata": {},
   "outputs": [],
   "source": [
    "data4 = re.sub('x', ' ', data3)\n",
    "data4"
   ]
  },
  {
   "cell_type": "code",
   "execution_count": null,
   "id": "e5c0bc2c",
   "metadata": {},
   "outputs": [],
   "source": [
    "data5 = re.sub(' +',' ', data4)\n",
    "data5"
   ]
  },
  {
   "cell_type": "code",
   "execution_count": null,
   "id": "7fd97b00",
   "metadata": {},
   "outputs": [],
   "source": [
    "dataset = df[df['rest_type'] == 'Quick Bites']\n",
    "dataset.head()"
   ]
  },
  {
   "cell_type": "code",
   "execution_count": null,
   "id": "af0f5179",
   "metadata": {},
   "outputs": [],
   "source": [
    "total_review=' '\n",
    "for review in dataset['reviews_list']:\n",
    "    review=review.lower()\n",
    "    review=re.sub('[^a-zA-Z]', ' ',review)\n",
    "    review=re.sub('rated', ' ',review)\n",
    "    review=re.sub('x',' ',review)\n",
    "    review=re.sub(' +',' ',review)\n",
    "    total_review=total_review + str(review)\n",
    " "
   ]
  },
  {
   "cell_type": "code",
   "execution_count": null,
   "id": "d157f80e",
   "metadata": {},
   "outputs": [],
   "source": [
    "wordcloud = WordCloud(stopwords = stopwords, width=1500, height=1500).generate(total_review) "
   ]
  },
  {
   "cell_type": "code",
   "execution_count": null,
   "id": "43bf7474",
   "metadata": {},
   "outputs": [],
   "source": [
    "plt.figure(figsize=(12,8))\n",
    "plt.imshow(wordcloud)\n",
    "plt.axis('off')"
   ]
  },
  {
   "cell_type": "code",
   "execution_count": null,
   "id": "84cf07db",
   "metadata": {},
   "outputs": [],
   "source": [
    "df.head() "
   ]
  },
  {
   "cell_type": "markdown",
   "id": "fb3e0836",
   "metadata": {},
   "source": [
    "# Step 14\n",
    "Split restaurants into 2 categories to prepare it for modelling purpose:\n",
    "1. New restaurants (with zero rating)\n",
    "2. Restaurants for training data"
   ]
  },
  {
   "cell_type": "code",
   "execution_count": null,
   "id": "a16e196a",
   "metadata": {},
   "outputs": [],
   "source": [
    "def assign(x):\n",
    "    if(x>0):\n",
    "        return 1\n",
    "    else:\n",
    "        return 0"
   ]
  },
  {
   "cell_type": "code",
   "execution_count": null,
   "id": "6ce8cc49",
   "metadata": {},
   "outputs": [],
   "source": [
    "df['rated'] = df['rate'].apply(assign)"
   ]
  },
  {
   "cell_type": "code",
   "execution_count": null,
   "id": "c3040aae",
   "metadata": {},
   "outputs": [],
   "source": [
    "df.columns"
   ]
  },
  {
   "cell_type": "code",
   "execution_count": null,
   "id": "fc9fba92",
   "metadata": {},
   "outputs": [],
   "source": [
    "df['rated'].unique()"
   ]
  },
  {
   "cell_type": "code",
   "execution_count": null,
   "id": "f9ff72dd",
   "metadata": {},
   "outputs": [],
   "source": [
    "new_restaurants = df[df['rated']==0]\n",
    "train_val_restaurants = df.query('rated==1 ')"
   ]
  },
  {
   "cell_type": "code",
   "execution_count": null,
   "id": "b48b10fa",
   "metadata": {},
   "outputs": [],
   "source": [
    "train_val_restaurants.head()"
   ]
  },
  {
   "cell_type": "code",
   "execution_count": null,
   "id": "d535f5b0",
   "metadata": {},
   "outputs": [],
   "source": [
    "train_val_restaurants['rate'].unique()"
   ]
  },
  {
   "cell_type": "markdown",
   "id": "128108f0",
   "metadata": {},
   "source": [
    "# Step 15\n",
    "Create a target variable/feature that we will have to predict.\n",
    "According to domain expertise, if rating > 3.75 good, else bad."
   ]
  },
  {
   "cell_type": "code",
   "execution_count": null,
   "id": "56cd2f79",
   "metadata": {},
   "outputs": [],
   "source": [
    "threshold=3.75\n",
    "train_val_restaurants['target'] = train_val_restaurants['rate'].apply(lambda x: 1 if x>=threshold else 0)"
   ]
  },
  {
   "cell_type": "code",
   "execution_count": null,
   "id": "18dba23a",
   "metadata": {},
   "outputs": [],
   "source": [
    "train_val_restaurants.head()"
   ]
  },
  {
   "cell_type": "code",
   "execution_count": null,
   "id": "1a0a4f90",
   "metadata": {},
   "outputs": [],
   "source": [
    "x = train_val_restaurants['target'].value_counts()\n",
    "x"
   ]
  },
  {
   "cell_type": "code",
   "execution_count": null,
   "id": "72d12d62",
   "metadata": {},
   "outputs": [],
   "source": [
    "labels = x.index\n",
    "labels"
   ]
  },
  {
   "cell_type": "code",
   "execution_count": null,
   "id": "a7fc1e8d",
   "metadata": {},
   "outputs": [],
   "source": [
    "plt.pie(x, labels=labels)\n",
    "# Almost 1:1 ratio hence no case of imbalance data"
   ]
  },
  {
   "cell_type": "markdown",
   "id": "3499201a",
   "metadata": {},
   "source": [
    "# Step 16\n",
    "Performing feature extraction/importance on data."
   ]
  },
  {
   "cell_type": "code",
   "execution_count": null,
   "id": "3e25cc06",
   "metadata": {},
   "outputs": [],
   "source": [
    "train_val_restaurants.columns"
   ]
  },
  {
   "cell_type": "code",
   "execution_count": null,
   "id": "e637086e",
   "metadata": {},
   "outputs": [],
   "source": [
    "# Select k features from n features that will play a major role/ important features in model building\n",
    "train_val_restaurants.head()"
   ]
  },
  {
   "cell_type": "code",
   "execution_count": null,
   "id": "24f869eb",
   "metadata": {},
   "outputs": [],
   "source": [
    "def count(x):\n",
    "    return len(x.split(','))"
   ]
  },
  {
   "cell_type": "code",
   "execution_count": null,
   "id": "507dafc9",
   "metadata": {},
   "outputs": [],
   "source": [
    "train_val_restaurants['total_cuisines'] = train_val_restaurants['cuisines'].astype(str).apply(count)"
   ]
  },
  {
   "cell_type": "code",
   "execution_count": null,
   "id": "06e2024a",
   "metadata": {},
   "outputs": [],
   "source": [
    "train_val_restaurants['multiple_types'] = train_val_restaurants['rest_type'].astype(str).apply(count)"
   ]
  },
  {
   "cell_type": "code",
   "execution_count": null,
   "id": "51caef97",
   "metadata": {
    "scrolled": true
   },
   "outputs": [],
   "source": [
    "train_val_restaurants.columns"
   ]
  },
  {
   "cell_type": "code",
   "execution_count": null,
   "id": "d6637683",
   "metadata": {},
   "outputs": [],
   "source": [
    "train_val_restaurants.columns"
   ]
  },
  {
   "cell_type": "code",
   "execution_count": null,
   "id": "e49abfb9",
   "metadata": {},
   "outputs": [],
   "source": [
    "imp_features = ['online_order', 'book_table','location', 'rest_type',\n",
    "       'approx_cost(for two people)',\n",
    "       'listed_in(type)', 'listed_in(city)',\n",
    "       'target', 'total_cuisines', 'multiple_types']"
   ]
  },
  {
   "cell_type": "code",
   "execution_count": null,
   "id": "4e42d687",
   "metadata": {},
   "outputs": [],
   "source": [
    "data = train_val_restaurants[imp_features]"
   ]
  },
  {
   "cell_type": "code",
   "execution_count": null,
   "id": "7eb0001a",
   "metadata": {},
   "outputs": [],
   "source": [
    "data"
   ]
  },
  {
   "cell_type": "code",
   "execution_count": null,
   "id": "a08abeb5",
   "metadata": {},
   "outputs": [],
   "source": [
    "data.shape"
   ]
  },
  {
   "cell_type": "markdown",
   "id": "58897bc5",
   "metadata": {},
   "source": [
    "# Step 17\n",
    "Finding missing values."
   ]
  },
  {
   "cell_type": "code",
   "execution_count": null,
   "id": "6a8867cf",
   "metadata": {},
   "outputs": [],
   "source": [
    "data.isnull().sum()"
   ]
  },
  {
   "cell_type": "code",
   "execution_count": null,
   "id": "58fcc445",
   "metadata": {},
   "outputs": [],
   "source": [
    "data.dropna(how='any', inplace=True)"
   ]
  },
  {
   "cell_type": "code",
   "execution_count": null,
   "id": "b1dfa541",
   "metadata": {},
   "outputs": [],
   "source": [
    "data.shape"
   ]
  },
  {
   "cell_type": "markdown",
   "id": "970ebcef",
   "metadata": {},
   "source": [
    "# Step 18\n",
    "Separate categorical and numerical data."
   ]
  },
  {
   "cell_type": "code",
   "execution_count": null,
   "id": "3a660e27",
   "metadata": {},
   "outputs": [],
   "source": [
    "data.dtypes"
   ]
  },
  {
   "cell_type": "code",
   "execution_count": null,
   "id": "378a6f8a",
   "metadata": {},
   "outputs": [],
   "source": [
    "cat_features = [col for col in data.columns if data[col].dtype=='O']\n",
    "num_features = [col for col in data.columns if data[col].dtype!='O']"
   ]
  },
  {
   "cell_type": "code",
   "execution_count": null,
   "id": "f38b454f",
   "metadata": {},
   "outputs": [],
   "source": [
    "for feature in cat_features:\n",
    "    print('{} has total {} unique features.'.format(feature, data[feature].nunique()))"
   ]
  },
  {
   "cell_type": "markdown",
   "id": "40afd97a",
   "metadata": {},
   "source": [
    "# Step 19\n",
    "Feature encoding."
   ]
  },
  {
   "cell_type": "code",
   "execution_count": null,
   "id": "7839de88",
   "metadata": {},
   "outputs": [],
   "source": [
    "# Avoiding one hot encoding as there as upto 92 unique features\n",
    "data['location'].nunique()"
   ]
  },
  {
   "cell_type": "code",
   "execution_count": null,
   "id": "e47b307d",
   "metadata": {},
   "outputs": [],
   "source": [
    "# Check contribution of each an every category\n",
    "values=(data['location'].value_counts()/len(data))*100\n",
    "values"
   ]
  },
  {
   "cell_type": "code",
   "execution_count": null,
   "id": "088a784e",
   "metadata": {},
   "outputs": [],
   "source": [
    "threshold = 0.4\n",
    "imp=values[values>threshold]\n",
    "imp"
   ]
  },
  {
   "cell_type": "code",
   "execution_count": null,
   "id": "9ced81f8",
   "metadata": {},
   "outputs": [],
   "source": [
    "imp.index"
   ]
  },
  {
   "cell_type": "code",
   "execution_count": null,
   "id": "c68d490d",
   "metadata": {},
   "outputs": [],
   "source": [
    "imp.nunique()"
   ]
  },
  {
   "cell_type": "code",
   "execution_count": null,
   "id": "d1e0ae26",
   "metadata": {},
   "outputs": [],
   "source": [
    "data['location'].nunique()"
   ]
  },
  {
   "cell_type": "code",
   "execution_count": null,
   "id": "7a5173ec",
   "metadata": {},
   "outputs": [],
   "source": [
    "data['location'] = np.where(data['location'].isin(imp.index), data['location'], 'other')\n",
    "#using lambda\n",
    "#data['location'].apply(lambda x:'other' if x not in imp.index else x)"
   ]
  },
  {
   "cell_type": "code",
   "execution_count": null,
   "id": "3e276df0",
   "metadata": {},
   "outputs": [],
   "source": [
    "data['location'].nunique()"
   ]
  },
  {
   "cell_type": "code",
   "execution_count": null,
   "id": "7f584998",
   "metadata": {},
   "outputs": [],
   "source": [
    "# Check contribution of each an every category\n",
    "values2=(data['rest_type'].value_counts()/len(data))*100\n",
    "values2"
   ]
  },
  {
   "cell_type": "code",
   "execution_count": null,
   "id": "764faf2e",
   "metadata": {},
   "outputs": [],
   "source": [
    "threshold = 1.5\n",
    "imp2=values2[values2>threshold]\n",
    "imp2"
   ]
  },
  {
   "cell_type": "code",
   "execution_count": null,
   "id": "559d1633",
   "metadata": {},
   "outputs": [],
   "source": [
    "len(imp2)"
   ]
  },
  {
   "cell_type": "code",
   "execution_count": null,
   "id": "37364b39",
   "metadata": {},
   "outputs": [],
   "source": [
    "# Apply one-hot encoding\n",
    "data['rest_type'].head(20)"
   ]
  },
  {
   "cell_type": "code",
   "execution_count": null,
   "id": "a13ce617",
   "metadata": {},
   "outputs": [],
   "source": [
    "data['rest_type'] = np.where(data['rest_type'].isin(imp2.index), data['rest_type'], 'other')\n",
    "data['rest_type'].head(20)"
   ]
  },
  {
   "cell_type": "code",
   "execution_count": null,
   "id": "8555dfd9",
   "metadata": {},
   "outputs": [],
   "source": [
    "for feature in cat_features:\n",
    "    print('{} has total {} unique features.'.format(feature, data[feature].nunique()))"
   ]
  },
  {
   "cell_type": "code",
   "execution_count": null,
   "id": "35455394",
   "metadata": {},
   "outputs": [],
   "source": [
    "# Can use one hot encoding now\n",
    "data_cat = data[cat_features]"
   ]
  },
  {
   "cell_type": "code",
   "execution_count": null,
   "id": "45b6f661",
   "metadata": {},
   "outputs": [],
   "source": [
    "data_cat.head()"
   ]
  },
  {
   "cell_type": "code",
   "execution_count": null,
   "id": "443e3790",
   "metadata": {},
   "outputs": [],
   "source": [
    "for col in cat_features:\n",
    "    col_encoded = pd.get_dummies(data_cat[col], prefix=col, drop_first=True)\n",
    "    data_cat = pd.concat([data_cat, col_encoded], axis=1)\n",
    "    data_cat.drop(col, axis=1, inplace=True)\n",
    "    "
   ]
  },
  {
   "cell_type": "code",
   "execution_count": null,
   "id": "f1920c7b",
   "metadata": {},
   "outputs": [],
   "source": [
    "data_cat.shape"
   ]
  },
  {
   "cell_type": "code",
   "execution_count": null,
   "id": "be82b638",
   "metadata": {},
   "outputs": [],
   "source": [
    "data_cat.head()"
   ]
  },
  {
   "cell_type": "code",
   "execution_count": null,
   "id": "71d6d5bd",
   "metadata": {},
   "outputs": [],
   "source": []
  }
 ],
 "metadata": {
  "kernelspec": {
   "display_name": "Python 3.8.8 64-bit ('anaconda3': conda)",
   "language": "python",
   "name": "python38864bitanaconda3conda91dffbe3e0604ed683edb69236908d07"
  },
  "language_info": {
   "codemirror_mode": {
    "name": "ipython",
    "version": 3
   },
   "file_extension": ".py",
   "mimetype": "text/x-python",
   "name": "python",
   "nbconvert_exporter": "python",
   "pygments_lexer": "ipython3",
   "version": "3.8.8"
  }
 },
 "nbformat": 4,
 "nbformat_minor": 5
}
